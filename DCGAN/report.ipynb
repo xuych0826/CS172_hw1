{
 "cells": [
  {
   "cell_type": "markdown",
   "metadata": {},
   "source": [
    "# 2"
   ]
  },
  {
   "cell_type": "markdown",
   "metadata": {},
   "source": [
    "### Padding\n",
    "\n",
    "we can drive the formula for the padding of a convolutional layer by considering the following:\n",
    "\n",
    "- \\(H\\): the height of the input\n",
    "- \\(F\\)：the height of the filter\n",
    "- \\(P\\)：the padding\n",
    "- \\(S\\)：the stride\n",
    "- \\(H'\\)：the height of the output\n",
    "\n",
    "The formula for calculating the height of the output is given by:\n",
    "\n",
    "```python\n",
    "H' = (H - F + 2P)//S + 1\n",
    "```\n",
    "\n",
    "Rearranging the formula, we get:\n",
    "padding of conv1 = 1\n",
    "padding of conv2 = 1\n",
    "padding of conv3 = 1\n",
    "padding of conv4 = 1\n",
    "padding of conv5 = 0\n"
   ]
  },
  {
   "cell_type": "markdown",
   "metadata": {},
   "source": []
  },
  {
   "cell_type": "markdown",
   "metadata": {},
   "source": []
  }
 ],
 "metadata": {
  "language_info": {
   "name": "python"
  }
 },
 "nbformat": 4,
 "nbformat_minor": 2
}
